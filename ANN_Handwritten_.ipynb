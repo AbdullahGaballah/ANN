{
  "nbformat": 4,
  "nbformat_minor": 0,
  "metadata": {
    "colab": {
      "provenance": [],
      "collapsed_sections": [],
      "authorship_tag": "ABX9TyOtHCWkzDa5akTaOXXkCghJ",
      "include_colab_link": true
    },
    "kernelspec": {
      "name": "python3",
      "display_name": "Python 3"
    },
    "language_info": {
      "name": "python"
    }
  },
  "cells": [
    {
      "cell_type": "markdown",
      "metadata": {
        "id": "view-in-github",
        "colab_type": "text"
      },
      "source": [
        "<a href=\"https://colab.research.google.com/github/AbdullahGaballah/ANN/blob/Handwritten/ANN_Handwritten_.ipynb\" target=\"_parent\"><img src=\"https://colab.research.google.com/assets/colab-badge.svg\" alt=\"Open In Colab\"/></a>"
      ]
    },
    {
      "cell_type": "code",
      "execution_count": null,
      "metadata": {
        "id": "VuYpphSG5_TK"
      },
      "outputs": [],
      "source": [
        "import tensorflow as tf \n",
        "from keras import layers , datasets, Sequential \n",
        "import matplotlib.pyplot as plt\n",
        "import numpy as np\n",
        "\n"
      ]
    },
    {
      "cell_type": "code",
      "source": [
        "(x_train ,y_train), (x_test ,y_test) =datasets.mnist.load_data()"
      ],
      "metadata": {
        "id": "cwSgc0lX7m8R"
      },
      "execution_count": null,
      "outputs": []
    },
    {
      "cell_type": "code",
      "source": [
        "x_train.shape"
      ],
      "metadata": {
        "colab": {
          "base_uri": "https://localhost:8080/"
        },
        "id": "6omz0VkN8CrY",
        "outputId": "9c6705a6-288d-4da2-c704-710daece43cd"
      },
      "execution_count": null,
      "outputs": [
        {
          "output_type": "execute_result",
          "data": {
            "text/plain": [
              "(60000, 28, 28)"
            ]
          },
          "metadata": {},
          "execution_count": 168
        }
      ]
    },
    {
      "cell_type": "code",
      "source": [
        "def plot_sample(x,y,index):\n",
        "  plt.imshow(x[index])\n",
        "  plt.xlabel(y[index])\n"
      ],
      "metadata": {
        "id": "b1ccXnDg8HoA"
      },
      "execution_count": null,
      "outputs": []
    },
    {
      "cell_type": "code",
      "source": [
        "plot_sample(x_train,y_train,2)"
      ],
      "metadata": {
        "colab": {
          "base_uri": "https://localhost:8080/",
          "height": 279
        },
        "id": "xBO9W4Wu86Wa",
        "outputId": "603b834e-5816-4048-a0f9-302588cc49d8"
      },
      "execution_count": null,
      "outputs": [
        {
          "output_type": "display_data",
          "data": {
            "text/plain": [
              "<Figure size 432x288 with 1 Axes>"
            ],
            "image/png": "[encoded data removed]"
          },
          "metadata": {
            "needs_background": "light"
          }
        }
      ]
    },
    {
      "cell_type": "code",
      "source": [
        "x_train = x_train/255\n",
        "x_test = x_test/255"
      ],
      "metadata": {
        "id": "kCqFUaD7-CAt"
      },
      "execution_count": null,
      "outputs": []
    },
    {
      "cell_type": "code",
      "source": [
        "x_train =x_train.reshape(60000,28*28)\n",
        "x_test =x_test.reshape(len(x_test),28*28)\n",
        "\n",
        "x_train.shape"
      ],
      "metadata": {
        "colab": {
          "base_uri": "https://localhost:8080/"
        },
        "id": "x9XyUiFdEq1x",
        "outputId": "15141512-1b61-4d8e-a177-41d6773b266c"
      },
      "execution_count": null,
      "outputs": [
        {
          "output_type": "execute_result",
          "data": {
            "text/plain": [
              "(60000, 784)"
            ]
          },
          "metadata": {},
          "execution_count": 172
        }
      ]
    },
    {
      "cell_type": "code",
      "source": [
        "x_test.shape"
      ],
      "metadata": {
        "colab": {
          "base_uri": "https://localhost:8080/"
        },
        "id": "9SB5NXImJoAK",
        "outputId": "684a32bc-29bd-4540-dc65-06104966ae80"
      },
      "execution_count": null,
      "outputs": [
        {
          "output_type": "execute_result",
          "data": {
            "text/plain": [
              "(10000, 784)"
            ]
          },
          "metadata": {},
          "execution_count": 173
        }
      ]
    },
    {
      "cell_type": "markdown",
      "source": [
        "# **Without  hidden layer **"
      ],
      "metadata": {
        "id": "2tdPSpaFRF0g"
      }
    },
    {
      "cell_type": "code",
      "source": [
        "ann = Sequential([\n",
        "    layers.Dense(10,input_shape=(784,) ,activation='sigmoid'),\n",
        "])\n",
        "ann.compile(optimizer='adam',\n",
        "            loss ='sparse_categorical_crossentropy' ,\n",
        "            metrics =['accuracy'] \n",
        "\n",
        "            )"
      ],
      "metadata": {
        "id": "PozP5z5ZCK3k"
      },
      "execution_count": null,
      "outputs": []
    },
    {
      "cell_type": "code",
      "source": [
        "ann.fit(x_train,y_train,epochs=5)"
      ],
      "metadata": {
        "colab": {
          "base_uri": "https://localhost:8080/"
        },
        "id": "94CaTQn-IAvm",
        "outputId": "0e325595-9179-4f2d-db4c-efaa02bebae6"
      },
      "execution_count": null,
      "outputs": [
        {
          "output_type": "stream",
          "name": "stdout",
          "text": [
            "Epoch 1/5\n",
            "1875/1875 [==============================] - 4s 2ms/step - loss: 0.4662 - accuracy: 0.8791\n",
            "Epoch 2/5\n",
            "1875/1875 [==============================] - 4s 2ms/step - loss: 0.3039 - accuracy: 0.9154\n",
            "Epoch 3/5\n",
            "1875/1875 [==============================] - 4s 2ms/step - loss: 0.2838 - accuracy: 0.9212\n",
            "Epoch 4/5\n",
            "1875/1875 [==============================] - 4s 2ms/step - loss: 0.2730 - accuracy: 0.9233\n",
            "Epoch 5/5\n",
            "1875/1875 [==============================] - 4s 2ms/step - loss: 0.2661 - accuracy: 0.9260\n"
          ]
        },
        {
          "output_type": "execute_result",
          "data": {
            "text/plain": [
              "<keras.callbacks.History at 0x7f91798014d0>"
            ]
          },
          "metadata": {},
          "execution_count": 175
        }
      ]
    },
    {
      "cell_type": "code",
      "source": [
        "ann.evaluate(x_train, y_train)"
      ],
      "metadata": {
        "colab": {
          "base_uri": "https://localhost:8080/"
        },
        "id": "Qk3V0-rPIRmQ",
        "outputId": "a75db559-1023-4bb3-ca05-bc1150455180"
      },
      "execution_count": null,
      "outputs": [
        {
          "output_type": "stream",
          "name": "stdout",
          "text": [
            "1875/1875 [==============================] - 3s 1ms/step - loss: 0.2685 - accuracy: 0.9237\n"
          ]
        },
        {
          "output_type": "execute_result",
          "data": {
            "text/plain": [
              "[0.26851317286491394, 0.9236833453178406]"
            ]
          },
          "metadata": {},
          "execution_count": 176
        }
      ]
    },
    {
      "cell_type": "code",
      "source": [
        "from numpy.ma.core import argmax\n",
        "y_predicted = ann.predict(x_test)\n",
        "y_predicted_labels = [np.argmax(i) for i in y_predicted]\n"
      ],
      "metadata": {
        "id": "nqq8SOjBJCC0"
      },
      "execution_count": null,
      "outputs": []
    },
    {
      "cell_type": "code",
      "source": [
        "y_predicted_labels = np.asarray(y_predicted_labels)\n",
        "y_predicted_labels.shape"
      ],
      "metadata": {
        "colab": {
          "base_uri": "https://localhost:8080/"
        },
        "id": "L1s5N7IuAlSy",
        "outputId": "96c144be-9e1a-4fa3-e6cd-13c530011a14"
      },
      "execution_count": null,
      "outputs": [
        {
          "output_type": "execute_result",
          "data": {
            "text/plain": [
              "(10000,)"
            ]
          },
          "metadata": {},
          "execution_count": 178
        }
      ]
    },
    {
      "cell_type": "code",
      "source": [
        "x_test_plt =x_test.reshape(len(x_test),28,28)\n",
        "\n",
        "plot_sample(x_test_plt,y_predicted_labels,2)"
      ],
      "metadata": {
        "colab": {
          "base_uri": "https://localhost:8080/",
          "height": 279
        },
        "id": "r9ISqNWnBUpb",
        "outputId": "c26c30e4-da31-4770-a9cc-a9ec8564e23d"
      },
      "execution_count": null,
      "outputs": [
        {
          "output_type": "display_data",
          "data": {
            "text/plain": [
              "<Figure size 432x288 with 1 Axes>"
            ],
            "image/png": "[encoded data removed]"
          },
          "metadata": {
            "needs_background": "light"
          }
        }
      ]
    },
    {
      "cell_type": "code",
      "source": [
        "import seaborn as sn \n",
        "def con_matric(label,pred) :\n",
        "  cm = tf.math.confusion_matrix(labels=label , predictions=pred)\n",
        "  plt.figure(figsize = (10,7))\n",
        "  sn.heatmap(cm, annot= True ,fmt='d')\n",
        "  plt.xlabel('Predicted')\n",
        "  plt.ylabel('Truth')"
      ],
      "metadata": {
        "id": "hWVMzEPdDrVv"
      },
      "execution_count": null,
      "outputs": []
    },
    {
      "cell_type": "code",
      "source": [
        "con_matric(y_test ,y_predicted_labels)\n"
      ],
      "metadata": {
        "colab": {
          "base_uri": "https://localhost:8080/",
          "height": 442
        },
        "id": "XpIb7eBkQgUx",
        "outputId": "788cda4e-12ce-4a94-b931-5fe608ee611e"
      },
      "execution_count": null,
      "outputs": [
        {
          "output_type": "display_data",
          "data": {
            "text/plain": [
              "<Figure size 720x504 with 2 Axes>"
            ],
            "image/png": "[encoded data removed]"
          },
          "metadata": {
            "needs_background": "light"
          }
        }
      ]
    },
    {
      "cell_type": "markdown",
      "source": [],
      "metadata": {
        "id": "LFfzJh2yR2Q7"
      }
    },
    {
      "cell_type": "markdown",
      "source": [
        "# **With  hidden layer **"
      ],
      "metadata": {
        "id": "FAoU3tBBR1y1"
      }
    },
    {
      "cell_type": "code",
      "source": [
        " \n",
        "ann_hidden = Sequential([\n",
        "    layers.Dense(100,input_shape=(784,),activation='relu'),\n",
        "    layers.Dense(10,activation='sigmoid'),\n",
        "\n",
        "\n",
        "])\n",
        "\n",
        "ann_hidden.compile(optimizer='adam',\n",
        "                   loss= 'sparse_categorical_crossentropy',\n",
        "                   metrics = ['accuracy']\n",
        "                   \n",
        "                   )"
      ],
      "metadata": {
        "id": "lGemC6KDRyTD"
      },
      "execution_count": null,
      "outputs": []
    },
    {
      "cell_type": "code",
      "source": [
        "ann_hidden.fit(x_train,y_train,epochs=5)"
      ],
      "metadata": {
        "colab": {
          "base_uri": "https://localhost:8080/"
        },
        "id": "ZryWfeaTUQUO",
        "outputId": "39c0b6a8-3b6e-40ec-a864-2c7d324c5986"
      },
      "execution_count": null,
      "outputs": [
        {
          "output_type": "stream",
          "name": "stdout",
          "text": [
            "Epoch 1/5\n",
            "1875/1875 [==============================] - 6s 3ms/step - loss: 0.2685 - accuracy: 0.9239\n",
            "Epoch 2/5\n",
            "1875/1875 [==============================] - 5s 3ms/step - loss: 0.1223 - accuracy: 0.9645\n",
            "Epoch 3/5\n",
            "1875/1875 [==============================] - 5s 3ms/step - loss: 0.0854 - accuracy: 0.9746\n",
            "Epoch 4/5\n",
            "1875/1875 [==============================] - 5s 3ms/step - loss: 0.0651 - accuracy: 0.9798\n",
            "Epoch 5/5\n",
            "1875/1875 [==============================] - 5s 3ms/step - loss: 0.0519 - accuracy: 0.9839\n"
          ]
        },
        {
          "output_type": "execute_result",
          "data": {
            "text/plain": [
              "<keras.callbacks.History at 0x7f9179625d50>"
            ]
          },
          "metadata": {},
          "execution_count": 183
        }
      ]
    },
    {
      "cell_type": "code",
      "source": [
        "y_predicted_h = ann_hidden.predict(x_test)\n",
        "y_predicted_labels_h = [np.argmax(i) for i in y_predicted_h]\n"
      ],
      "metadata": {
        "id": "0796xGm4VC9e"
      },
      "execution_count": null,
      "outputs": []
    },
    {
      "cell_type": "code",
      "source": [
        "y_predicted_labels_h = np.asarray(y_predicted_labels_h)\n",
        "y_predicted_labels_h.shape"
      ],
      "metadata": {
        "colab": {
          "base_uri": "https://localhost:8080/"
        },
        "id": "tNiMeM1vVSrS",
        "outputId": "4986c739-f263-4ba1-d6ee-18f1ac2f2e72"
      },
      "execution_count": null,
      "outputs": [
        {
          "output_type": "execute_result",
          "data": {
            "text/plain": [
              "(10000,)"
            ]
          },
          "metadata": {},
          "execution_count": 185
        }
      ]
    },
    {
      "cell_type": "code",
      "source": [
        "x_test_plt_h =x_test.reshape(len(x_test),28,28)\n",
        "\n",
        "plot_sample(x_test_plt_h,y_predicted_labels_h,6)"
      ],
      "metadata": {
        "colab": {
          "base_uri": "https://localhost:8080/",
          "height": 279
        },
        "id": "GPdkRVUhVZ1c",
        "outputId": "ff41e7a5-6432-4d09-c9b5-c9dcd444f4ae"
      },
      "execution_count": null,
      "outputs": [
        {
          "output_type": "display_data",
          "data": {
            "text/plain": [
              "<Figure size 432x288 with 1 Axes>"
            ],
            "image/png": "[encoded data removed]"
          },
          "metadata": {
            "needs_background": "light"
          }
        }
      ]
    },
    {
      "cell_type": "code",
      "source": [
        "con_matric (y_test ,y_predicted_labels_h)\n"
      ],
      "metadata": {
        "colab": {
          "base_uri": "https://localhost:8080/",
          "height": 442
        },
        "id": "SRB4LzLBYzol",
        "outputId": "a1b64f0d-60b2-43ab-bfce-4e6041ad4647"
      },
      "execution_count": null,
      "outputs": [
        {
          "output_type": "display_data",
          "data": {
            "text/plain": [
              "<Figure size 720x504 with 2 Axes>"
            ],
            "image/png": "[encoded data removed]"
          },
          "metadata": {
            "needs_background": "light"
          }
        }
      ]
    }
  ]
}